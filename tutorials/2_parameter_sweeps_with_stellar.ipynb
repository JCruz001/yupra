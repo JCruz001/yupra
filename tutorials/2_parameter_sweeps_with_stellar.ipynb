{
  "nbformat": 4,
  "nbformat_minor": 0,
  "metadata": {
    "colab": {
      "provenance": [],
      "authorship_tag": "ABX9TyNSotif2Gox1WMkDQFx7TR1"
    },
    "kernelspec": {
      "name": "python3",
      "display_name": "Python 3"
    },
    "language_info": {
      "name": "python"
    }
  },
  "cells": [
    {
      "cell_type": "markdown",
      "source": [
        "<a target=\"_blank\" href=\"https://colab.research.google.com/github/jbirky/vplanet_tutorials/blob/main/tutorials/2_parameter_sweeps_with_stellar.ipynb\">\n",
        "  <img src=\"https://colab.research.google.com/assets/colab-badge.svg\" alt=\"Open In Colab\"/>\n",
        "</a>"
      ],
      "metadata": {
        "id": "dz4YASZpOZr8"
      }
    },
    {
      "cell_type": "markdown",
      "source": [
        "### 0. Installations\n",
        "\n",
        "If you have not installed the packages `vplanet` and `vplanet_inference` you first need to install these, otherwise skip to step 1. If you are working in colab, install them locally from source using the following lines:"
      ],
      "metadata": {
        "id": "CsnExCYhC9Kq"
      }
    },
    {
      "cell_type": "code",
      "source": [
        "!git clone https://github.com/VirtualPlanetaryLaboratory/vplanet.git\n",
        "\n",
        "import subprocess\n",
        "subprocess.call([\"python setup.py develop\"], cwd=\"vplanet\", shell=True)"
      ],
      "metadata": {
        "colab": {
          "base_uri": "https://localhost:8080/"
        },
        "id": "AXsw060aC3Ll",
        "outputId": "86c9ce7c-a9b2-4f75-cfa8-9bbdc629e9a7"
      },
      "execution_count": null,
      "outputs": [
        {
          "output_type": "stream",
          "name": "stdout",
          "text": [
            "Cloning into 'vplanet'...\n",
            "remote: Enumerating objects: 37193, done.\u001b[K\n",
            "remote: Counting objects: 100% (12555/12555), done.\u001b[K\n",
            "remote: Compressing objects: 100% (2199/2199), done.\u001b[K\n",
            "remote: Total 37193 (delta 10367), reused 12354 (delta 10201), pack-reused 24638\u001b[K\n",
            "Receiving objects: 100% (37193/37193), 163.50 MiB | 24.54 MiB/s, done.\n",
            "Resolving deltas: 100% (27232/27232), done.\n"
          ]
        },
        {
          "output_type": "execute_result",
          "data": {
            "text/plain": [
              "0"
            ]
          },
          "metadata": {},
          "execution_count": 2
        }
      ]
    },
    {
      "cell_type": "code",
      "source": [
        "!git clone https://github.com/jbirky/vplanet_inference"
      ],
      "metadata": {
        "colab": {
          "base_uri": "https://localhost:8080/"
        },
        "id": "Bvkcxy5pDkPZ",
        "outputId": "b82d8fe9-7940-42c6-ef5e-c50e72c56046"
      },
      "execution_count": null,
      "outputs": [
        {
          "output_type": "stream",
          "name": "stdout",
          "text": [
            "Cloning into 'vplanet_inference'...\n",
            "remote: Enumerating objects: 493, done.\u001b[K\n",
            "remote: Counting objects: 100% (97/97), done.\u001b[K\n",
            "remote: Compressing objects: 100% (66/66), done.\u001b[K\n",
            "remote: Total 493 (delta 53), reused 73 (delta 31), pack-reused 396\u001b[K\n",
            "Receiving objects: 100% (493/493), 94.92 KiB | 3.65 MiB/s, done.\n",
            "Resolving deltas: 100% (231/231), done.\n"
          ]
        }
      ]
    },
    {
      "cell_type": "markdown",
      "source": [
        "Restart the kernel after installations:"
      ],
      "metadata": {
        "id": "Nl1vmfr0DnA5"
      }
    },
    {
      "cell_type": "code",
      "source": [
        "import os\n",
        "os._exit(00)"
      ],
      "metadata": {
        "id": "4xO2FpE7DlAo"
      },
      "execution_count": null,
      "outputs": []
    },
    {
      "cell_type": "markdown",
      "source": [
        "Import packages:"
      ],
      "metadata": {
        "id": "D1O1kU3zD0e0"
      }
    },
    {
      "cell_type": "code",
      "source": [
        "import sys\n",
        "sys.path.append(\"vplanet\")\n",
        "sys.path.append(\"vplanet_inference\")\n",
        "import vplanet\n",
        "\n",
        "import subprocess\n",
        "import numpy as np\n",
        "from astropy import units as u\n",
        "import matplotlib.pyplot as plt\n",
        "from matplotlib import rcParams\n",
        "rcParams['font.family'] = 'stixgeneral'\n",
        "rcParams['text.usetex'] = False\n",
        "rcParams['xtick.labelsize'] = 16\n",
        "rcParams['ytick.labelsize'] = 16\n",
        "rcParams['axes.labelsize'] = 16\n",
        "\n",
        "# Create a directory to store our simulation configuration files\n",
        "import os\n",
        "temp_dir = \"infile_templates\"\n",
        "if not os.path.exists(temp_dir):\n",
        "  os.mkdir(temp_dir)"
      ],
      "metadata": {
        "id": "PJuHBZhRD15F"
      },
      "execution_count": null,
      "outputs": []
    },
    {
      "cell_type": "markdown",
      "source": [
        "### 1. Varying simulation parameters with `vplanet_inference`\n",
        "\n",
        "As you likely noticed working through the first tutorial `1_introduction_to_stellar`, it gets tedious to manually create new infiles for each new simulation you want to run and keep track of the proper unit conversions for each variable. While this workflow is okay for running just one or a few models, it is unsuitable if we want to say, run thousands of simulations to explore a parameter space, or do any inference to quantify parameter uncertainties. Fortunately this is where the package `vplanet_inference` comes in handy!"
      ],
      "metadata": {
        "id": "mUJuQDgeEQ_U"
      }
    },
    {
      "cell_type": "code",
      "source": [
        "import vplanet_inference as vpi"
      ],
      "metadata": {
        "id": "ZsMbsOtmEh0M"
      },
      "execution_count": null,
      "outputs": []
    },
    {
      "cell_type": "markdown",
      "source": [
        "`vplanet_inference` requires that we have a set of template infiles saved somewhere. We will call the directory containing the infiles the `inpath`.\n",
        "\n",
        "It also requires that we specify an `outpath` directory where infiles will be copied from `inpath` and written with the substituted parameters that we specify."
      ],
      "metadata": {
        "id": "TV1xwutuEm9g"
      }
    },
    {
      "cell_type": "code",
      "source": [
        "# Specify the directory to read infile templates from\n",
        "inpath = \"infile_templates/stellar/baraffe_ribas/\"\n",
        "\n",
        "# Speficy the directory where infiles will be written to\n",
        "outpath = \"output/\""
      ],
      "metadata": {
        "id": "LklFasxgEj7k"
      },
      "execution_count": null,
      "outputs": []
    },
    {
      "cell_type": "markdown",
      "source": [
        "We can choose which variables in the infiles that we want to vary by creating a dictionary called `inparams`. The dict keys follow the convention `<infile name>.<variable name>` and the dict values specify the units for the variables using `astropy.units`."
      ],
      "metadata": {
        "id": "2DHNDaCjErca"
      }
    },
    {
      "cell_type": "code",
      "source": [
        "# Dictionary of input parameters and units\n",
        "inparams = {\"star.dMass\": u.Msun,\n",
        "            \"vpl.dStopTime\": u.Gyr}"
      ],
      "metadata": {
        "id": "oPePm0lYEpjQ"
      },
      "execution_count": null,
      "outputs": []
    },
    {
      "cell_type": "markdown",
      "source": [
        "Similarly we can also create a dictionary called `outparams` which tells `vplanet_inference` which variables to add to our `saOutputOrder` for each body. The dict keys follow the convention `final.<body name>.<variable name>`, and the dict values use `astropy.units`.  "
      ],
      "metadata": {
        "id": "EN5Pr1HSEvkV"
      }
    },
    {
      "cell_type": "code",
      "source": [
        "# Dictionary of output parameters and units\n",
        "outparams = {\"final.star.Radius\": u.Rsun,\n",
        "             \"final.star.Luminosity\": u.Lsun}"
      ],
      "metadata": {
        "id": "UbB3VS9DEwNK"
      },
      "execution_count": null,
      "outputs": []
    },
    {
      "cell_type": "code",
      "source": [
        "# Initialize the vplanet model\n",
        "vpm = vpi.VplanetModel(inparams=inparams,\n",
        "                       outparams=outparams,\n",
        "                       inpath=inpath,\n",
        "                       outpath=outpath,\n",
        "                       timesteps=1e6*u.yr,\n",
        "                       time_init=5e6*u.yr,\n",
        "                       verbose=True)"
      ],
      "metadata": {
        "id": "Do2VGH5hE3xE"
      },
      "execution_count": null,
      "outputs": []
    },
    {
      "cell_type": "markdown",
      "source": [
        "As an example, we'll compute the evolution of a sun-like star.\n",
        "\n",
        "`theta` will be our array of values that we substitute in for the inparameters. These values should be the same order and units that we specified in our `inparams` dictionary.\n",
        "\n",
        "We can also optionally choose to save the written infiles to a specified `outsubpath` if we wish to inspect those later, such as for debugging. (If you run many simulations though, it is often better to say `remove=True` which deletes the infiles after the results are read. This will save you disk space.)"
      ],
      "metadata": {
        "id": "wvncnB28E7YB"
      }
    },
    {
      "cell_type": "code",
      "source": [
        "# Run the vplanet model\n",
        "theta = np.array([1.0, 9.0])\n",
        "evol = vpm.run_model(theta, remove=False, outsubpath=\"solar_evol\")"
      ],
      "metadata": {
        "id": "geVHfqDRE6ah"
      },
      "execution_count": null,
      "outputs": []
    },
    {
      "cell_type": "code",
      "source": [
        "plt.figure(figsize=[8,6])\n",
        "plt.plot(evol[\"Time\"], evol[\"final.star.Luminosity\"])\n",
        "plt.xscale(\"log\")\n",
        "plt.yscale(\"log\")\n",
        "plt.show()"
      ],
      "metadata": {
        "id": "4Orku2voFL_E"
      },
      "execution_count": null,
      "outputs": []
    },
    {
      "cell_type": "markdown",
      "source": [
        "### 2. Performing parameter sweeps with `vplanet_inference`"
      ],
      "metadata": {
        "id": "KNqCBlhsFSne"
      }
    },
    {
      "cell_type": "code",
      "source": [],
      "metadata": {
        "id": "Fnb0WlQ-FTUJ"
      },
      "execution_count": null,
      "outputs": []
    }
  ]
}